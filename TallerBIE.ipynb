{
 "cells": [
  {
   "cell_type": "markdown",
   "metadata": {},
   "source": [
    " # Ejercicio 1: contar nucleótidos"
   ]
  },
  {
   "cell_type": "code",
   "execution_count": 34,
   "metadata": {},
   "outputs": [],
   "source": [
    "adn = \"AGCTTTTCATTCTGACTGCAACGGGCAATATGTCTCTGTGTGGATTAAAAAAAGAGTGTCTGATAGCAGC\""
   ]
  },
  {
   "cell_type": "code",
   "execution_count": 35,
   "metadata": {},
   "outputs": [],
   "source": [
    "def contar_nucleotidos_v1(adn):\n",
    "    n_A = 0\n",
    "    n_C = 0\n",
    "    n_G = 0\n",
    "    n_T = 0\n",
    "    \n",
    "    for nucleotido in adn:\n",
    "        if nucleotido == \"A\":\n",
    "            n_A += 1\n",
    "        elif nucleotido == \"C\":\n",
    "            n_C += 1\n",
    "        elif nucleotido == \"G\":\n",
    "            n_G += 1\n",
    "        elif nucleotido == \"T\":\n",
    "            n_T += 1\n",
    "    return n_A, n_C, n_G, n_T"
   ]
  },
  {
   "cell_type": "code",
   "execution_count": 42,
   "metadata": {},
   "outputs": [],
   "source": [
    "def contar_nucleotidos_v2(adn):\n",
    "    return adn.count(\"A\"), adn.count(\"C\"), adn.count(\"G\"), adn.count(\"T\")"
   ]
  },
  {
   "cell_type": "code",
   "execution_count": 39,
   "metadata": {},
   "outputs": [],
   "source": [
    "from Bio.Seq import Seq\n",
    "def contar_nucleotidos_v3(adn):\n",
    "    my_seq = Seq(adn)\n",
    "    return my_seq.count(\"A\"), my_seq.count(\"C\"), my_seq.count(\"G\"), my_seq.count(\"T\")"
   ]
  },
  {
   "cell_type": "code",
   "execution_count": 44,
   "metadata": {},
   "outputs": [
    {
     "data": {
      "text/plain": [
       "(20, 12, 17, 21)"
      ]
     },
     "execution_count": 44,
     "metadata": {},
     "output_type": "execute_result"
    }
   ],
   "source": [
    "contar_nucleotidos_v2(dna)"
   ]
  },
  {
   "cell_type": "code",
   "execution_count": 40,
   "metadata": {},
   "outputs": [
    {
     "name": "stdout",
     "output_type": "stream",
     "text": [
      "v1: 4.663009405136108\n",
      "v2: 1.3066086769104004\n",
      "v3: 3.792895555496216\n"
     ]
    }
   ],
   "source": [
    "import time\n",
    "\n",
    "tic = time.time()\n",
    "for i in range(1000000):\n",
    "    contar_nucleotidos_v1(dna)\n",
    "tac = time.time()\n",
    "print(f\"v1: {tac-tic}\")\n",
    "\n",
    "tic = time.time()\n",
    "for i in range(1000000):\n",
    "    contar_nucleotidos_v2(dna)\n",
    "tac = time.time()\n",
    "print(f\"v2: {tac-tic}\")\n",
    "\n",
    "tic = time.time()\n",
    "for i in range(1000000):\n",
    "    contar_nucleotidos_v3(dna)\n",
    "tac = time.time()\n",
    "print(f\"v3: {tac-tic}\")"
   ]
  },
  {
   "cell_type": "markdown",
   "metadata": {},
   "source": [
    " # Ejercicio 2: transcripción"
   ]
  },
  {
   "cell_type": "code",
   "execution_count": 58,
   "metadata": {},
   "outputs": [],
   "source": [
    "adn = \"GATGGAACTTGACTACGTAAATT\""
   ]
  },
  {
   "cell_type": "code",
   "execution_count": 63,
   "metadata": {},
   "outputs": [],
   "source": [
    "def transcripcion_v1(adn):\n",
    "    arn = \"\"\n",
    "    \n",
    "    for nucleotido in adn:\n",
    "        if nucleotido == \"A\":\n",
    "            rna=rna+\"A\"\n",
    "        elif nucleotido == \"C\":\n",
    "            rna=rna+\"C\"\n",
    "        elif nucleotido == \"G\":\n",
    "            rna=rna+\"G\"\n",
    "        elif nucleotido == \"T\":\n",
    "            rna=rna+\"U\"\n",
    "    return arn"
   ]
  },
  {
   "cell_type": "code",
   "execution_count": 64,
   "metadata": {},
   "outputs": [],
   "source": [
    "def transcripcion_v2(adn):\n",
    "    return adn.replace(\"T\", \"U\")"
   ]
  },
  {
   "cell_type": "code",
   "execution_count": 65,
   "metadata": {},
   "outputs": [],
   "source": [
    "def transcripcion_v3(adn):\n",
    "    return Seq(adn).transcribe()"
   ]
  },
  {
   "cell_type": "code",
   "execution_count": 66,
   "metadata": {},
   "outputs": [
    {
     "name": "stdout",
     "output_type": "stream",
     "text": [
      "GAUGGAACUUGACUACGUAAAUU\n",
      "GAUGGAACUUGACUACGUAAAUU\n",
      "GAUGGAACUUGACUACGUAAAUU\n"
     ]
    }
   ],
   "source": [
    "print(transcripcion_v1(adn))\n",
    "print(transcripcion_v2(adn))\n",
    "print(transcripcion_v3(adn))"
   ]
  },
  {
   "cell_type": "markdown",
   "metadata": {},
   "source": [
    " # Ejercicio 2: cadena complementaria"
   ]
  },
  {
   "cell_type": "code",
   "execution_count": 106,
   "metadata": {},
   "outputs": [],
   "source": [
    "adn = \"AAAACCCGGT\""
   ]
  },
  {
   "cell_type": "code",
   "execution_count": 107,
   "metadata": {},
   "outputs": [],
   "source": [
    "def complementaria_v1(adn):\n",
    "    cci = \"\"\n",
    "    \n",
    "    for nucleotido in adn:\n",
    "        if nucleotido == \"A\":\n",
    "            cci=cci+\"T\"\n",
    "        elif nucleotido == \"C\":\n",
    "            cci=cci+\"G\"\n",
    "        elif nucleotido == \"G\":\n",
    "            cci=cci+\"C\"\n",
    "        elif nucleotido == \"T\":\n",
    "            cci=cci+\"A\"\n",
    "    return cci"
   ]
  },
  {
   "cell_type": "code",
   "execution_count": 108,
   "metadata": {},
   "outputs": [],
   "source": [
    "def complementaria_v2(adn):\n",
    "    return adn.replace('A', 't').replace('C', 'g').replace('G', 'c').replace(\"T\", \"a\").upper()"
   ]
  },
  {
   "cell_type": "code",
   "execution_count": 109,
   "metadata": {},
   "outputs": [],
   "source": [
    "def complementaria_v3(adn):\n",
    "    return Seq(adn).complement()"
   ]
  },
  {
   "cell_type": "code",
   "execution_count": 110,
   "metadata": {},
   "outputs": [
    {
     "name": "stdout",
     "output_type": "stream",
     "text": [
      "TTTTGGGCCA\n",
      "TTTTGGGCCA\n",
      "TTTTGGGCCA\n"
     ]
    }
   ],
   "source": [
    "print(complementaria_v1(adn))\n",
    "print(complementaria_v2(adn))\n",
    "print(complementaria_v3(adn))"
   ]
  },
  {
   "cell_type": "markdown",
   "metadata": {},
   "source": [
    " # Ejercicio 2B: cadena complementaria inversa"
   ]
  },
  {
   "cell_type": "code",
   "execution_count": 111,
   "metadata": {},
   "outputs": [],
   "source": [
    "adn = \"AAAACCCGGT\""
   ]
  },
  {
   "cell_type": "code",
   "execution_count": 112,
   "metadata": {},
   "outputs": [],
   "source": [
    "def complementaria_inversa_v1(adn):\n",
    "    cci = \"\"\n",
    "    \n",
    "    for nucleotido in adn:\n",
    "        if nucleotido == \"A\":\n",
    "            cci=\"T\"+cci\n",
    "        elif nucleotido == \"C\":\n",
    "            cci=\"G\"+cci\n",
    "        elif nucleotido == \"G\":\n",
    "            cci=\"C\"+cci\n",
    "        elif nucleotido == \"T\":\n",
    "            cci=\"A\"+cci\n",
    "    return cci"
   ]
  },
  {
   "cell_type": "code",
   "execution_count": 116,
   "metadata": {},
   "outputs": [],
   "source": [
    "def complementaria_inversa_v2(adn):\n",
    "    return complementaria_v2(adn)[::-1]"
   ]
  },
  {
   "cell_type": "code",
   "execution_count": 117,
   "metadata": {},
   "outputs": [],
   "source": [
    "def complementaria_inversa_v3(adn):\n",
    "    return Seq(adn).reverse_complement()"
   ]
  },
  {
   "cell_type": "code",
   "execution_count": 120,
   "metadata": {},
   "outputs": [
    {
     "name": "stdout",
     "output_type": "stream",
     "text": [
      "ACCGGGTTTT\n",
      "ACCGGGTTTT\n",
      "ACCGGGTTTT\n"
     ]
    }
   ],
   "source": [
    "print(complementaria_inversa_v1(adn))\n",
    "print(complementaria_inversa_v2(adn))\n",
    "print(complementaria_inversa_v3(adn))"
   ]
  },
  {
   "cell_type": "markdown",
   "metadata": {},
   "source": [
    " # Ejercicio 3: GC Content"
   ]
  },
  {
   "cell_type": "markdown",
   "metadata": {},
   "source": [
    " # Ejercicio 4: Traducción a proteína"
   ]
  },
  {
   "cell_type": "code",
   "execution_count": 151,
   "metadata": {},
   "outputs": [],
   "source": [
    "arn = \"AUGGCCAUGGCGCCCAGAACUGAGAUCAAUAGUACCCGUAUUAACGGGUGA\"\n",
    "aminoacidos = { \"UUU\":\"F\", \"UUC\":\"F\", \"UUA\":\"L\", \"UUG\":\"L\",\n",
    "                \"UCU\":\"S\", \"UCC\":\"s\", \"UCA\":\"S\", \"UCG\":\"S\",\n",
    "                \"UAU\":\"Y\", \"UAC\":\"Y\", \"UAA\":\"STOP\", \"UAG\":\"STOP\",\n",
    "                \"UGU\":\"C\", \"UGC\":\"C\", \"UGA\":\"STOP\", \"UGG\":\"W\",\n",
    "                \"CUU\":\"L\", \"CUC\":\"L\", \"CUA\":\"L\", \"CUG\":\"L\",\n",
    "                \"CCU\":\"P\", \"CCC\":\"P\", \"CCA\":\"P\", \"CCG\":\"P\",\n",
    "                \"CAU\":\"H\", \"CAC\":\"H\", \"CAA\":\"Q\", \"CAG\":\"Q\",\n",
    "                \"CGU\":\"R\", \"CGC\":\"R\", \"CGA\":\"R\", \"CGG\":\"R\",\n",
    "                \"AUU\":\"I\", \"AUC\":\"I\", \"AUA\":\"I\", \"AUG\":\"M\",\n",
    "                \"ACU\":\"T\", \"ACC\":\"T\", \"ACA\":\"T\", \"ACG\":\"T\",\n",
    "                \"AAU\":\"N\", \"AAC\":\"N\", \"AAA\":\"K\", \"AAG\":\"K\",\n",
    "                \"AGU\":\"S\", \"AGC\":\"S\", \"AGA\":\"R\", \"AGG\":\"R\",\n",
    "                \"GUU\":\"V\", \"GUC\":\"V\", \"GUA\":\"V\", \"GUG\":\"V\",\n",
    "                \"GCU\":\"A\", \"GCC\":\"A\", \"GCA\":\"A\", \"GCG\":\"A\",\n",
    "                \"GAU\":\"D\", \"GAC\":\"D\", \"GAA\":\"E\", \"GAG\":\"E\",\n",
    "                \"GGU\":\"G\", \"GGC\":\"G\", \"GGA\":\"G\", \"GGG\":\"G\",}"
   ]
  },
  {
   "cell_type": "code",
   "execution_count": 152,
   "metadata": {},
   "outputs": [],
   "source": [
    "def traduccion_v1(arn):\n",
    "    proteina = \"\"\n",
    "    \n",
    "    for i in range(0, len(arn), 3): \n",
    "            codon = arn[i:i + 3] \n",
    "            aminoacido = aminoacidos[codon] \n",
    "            if aminoacido == \"STOP\":\n",
    "                break\n",
    "            else:\n",
    "                proteina += aminoacidos[codon] \n",
    "    return proteina"
   ]
  },
  {
   "cell_type": "code",
   "execution_count": 153,
   "metadata": {},
   "outputs": [],
   "source": [
    "def traduccion_v2(arn):\n",
    "    return Seq(arn).translate(to_stop=True)"
   ]
  },
  {
   "cell_type": "code",
   "execution_count": 154,
   "metadata": {},
   "outputs": [
    {
     "name": "stdout",
     "output_type": "stream",
     "text": [
      "MAMAPRTEINSTRING\n"
     ]
    }
   ],
   "source": [
    "print(traduccion_v2(arn))"
   ]
  },
  {
   "cell_type": "code",
   "execution_count": null,
   "metadata": {},
   "outputs": [],
   "source": []
  }
 ],
 "metadata": {
  "kernelspec": {
   "display_name": "Python 3",
   "language": "python",
   "name": "python3"
  },
  "language_info": {
   "codemirror_mode": {
    "name": "ipython",
    "version": 3
   },
   "file_extension": ".py",
   "mimetype": "text/x-python",
   "name": "python",
   "nbconvert_exporter": "python",
   "pygments_lexer": "ipython3",
   "version": "3.6.9"
  }
 },
 "nbformat": 4,
 "nbformat_minor": 4
}
