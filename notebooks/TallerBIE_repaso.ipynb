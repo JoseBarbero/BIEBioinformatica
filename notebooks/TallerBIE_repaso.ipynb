{
 "cells": [
  {
   "cell_type": "markdown",
   "metadata": {},
   "source": [
    "# 1. ¿Qué es una variable?\n",
    "\n",
    "Una variable es un espacio de almacenamiento donde se guarda un valor. Se puede imaginar como una «caja» con un nombre."
   ]
  },
  {
   "cell_type": "markdown",
   "metadata": {},
   "source": [
    "Importante:\n",
    "- No deben comenzar con un número.\n",
    "- Pueden contener letras, números y guiones bajos (`_`).\n",
    "- Son sensibles a mayúsculas y minúsculas (`Edad` y `edad` son diferentes)."
   ]
  },
  {
   "cell_type": "code",
   "execution_count": 1,
   "metadata": {},
   "outputs": [],
   "source": [
    "# Variable de tipo string\n",
    "nombre = \"Juan\" \n",
    "\n",
    "# Variable de tipo integer\n",
    "edad = 25 \n",
    "\n",
    "# Variable de tipo float\n",
    "altura = 1.75 "
   ]
  },
  {
   "cell_type": "code",
   "execution_count": null,
   "metadata": {},
   "outputs": [],
   "source": [
    "# Podemos acceder a ellas y mostrarlas usando \"print\"\n",
    "print(nombre)\n",
    "print(edad)\n",
    "print(altura)"
   ]
  },
  {
   "cell_type": "code",
   "execution_count": null,
   "metadata": {},
   "outputs": [],
   "source": [
    "# Podemos inicializar una variable como el resultado de una operación\n",
    "edad_futura = 25 + 2\n",
    "print(edad_futura)  "
   ]
  },
  {
   "cell_type": "markdown",
   "metadata": {},
   "source": [
    "# 3. Condiciones (`if` y `else`)\n",
    "\n",
    "Sirven para tomar decisiones en el código."
   ]
  },
  {
   "cell_type": "code",
   "execution_count": null,
   "metadata": {},
   "outputs": [],
   "source": [
    "edad = 18\n",
    "\n",
    "# Comprobamos condición de \"mayor o igual\" (>=)\n",
    "if edad >= 18:\n",
    "    print(\"Eres mayor de edad\")\n",
    "else:\n",
    "    print(\"Eres menor de edad\")"
   ]
  },
  {
   "cell_type": "markdown",
   "metadata": {},
   "source": [
    "# 4. Funciones\n",
    "\n",
    "Una **función** es un bloque de código reutilizable. Se define usando `def` y puede recibir valores llamados *parámetros*."
   ]
  },
  {
   "cell_type": "code",
   "execution_count": 5,
   "metadata": {},
   "outputs": [],
   "source": [
    "# Definición de la función\n",
    "def saludar(nombre):\n",
    "    print(f\"Hola, {nombre}\")"
   ]
  },
  {
   "cell_type": "code",
   "execution_count": null,
   "metadata": {},
   "outputs": [],
   "source": [
    "# Llamada a la función\n",
    "saludar(\"Ana\")"
   ]
  },
  {
   "cell_type": "markdown",
   "metadata": {},
   "source": [
    "Retornar valores con `return`"
   ]
  },
  {
   "cell_type": "code",
   "execution_count": null,
   "metadata": {},
   "outputs": [],
   "source": [
    "def sumar(a, b):\n",
    "    return a + b\n",
    "\n",
    "resultado = sumar(3, 5)\n",
    "print(resultado)  # Imprime 8"
   ]
  },
  {
   "cell_type": "markdown",
   "metadata": {},
   "source": [
    "# 5. Estructuras de datos básicas\n",
    "\n",
    "## Listas (`list`)\n",
    "\n",
    "Sirven para almacenar múltiples valores, ordenados según un índice (la posición donde se almacena cada elemento). \n",
    "\n",
    "**NOTA**: El primer índice comienza en `0`"
   ]
  },
  {
   "cell_type": "code",
   "execution_count": null,
   "metadata": {},
   "outputs": [],
   "source": [
    "nucleotidos = [\"A\", \"C\", \"G\", \"T\"]\n",
    "\n",
    "# Accedemos a los elementos a partir de su índice ([0])\n",
    "print(nucleotidos[0])  # Imprime 'A'"
   ]
  },
  {
   "cell_type": "markdown",
   "metadata": {},
   "source": [
    "Las listas permiten acceder a una porción de sus elementos mediante la notación de **slicing**:  \n",
    "```python\n",
    "lista[inicio:fin]\n",
    "```\n",
    "- **inicio**: índice del primer elemento a incluir.  \n",
    "- **fin**: índice del primer elemento a excluir.  \n",
    "\n",
    "Si omitimos el **inicio**, se asume que es `0`.  \n",
    "Si omitimos el **fin**, se toma hasta el final de la lista."
   ]
  },
  {
   "cell_type": "code",
   "execution_count": null,
   "metadata": {},
   "outputs": [],
   "source": [
    "# Ejemplo de slicing\n",
    "nucleotidos = [\"A\", \"C\", \"G\", \"T\"]\n",
    "\n",
    "# Obtener los dos primeros elementos\n",
    "print(nucleotidos[:2])  # Imprime ['A', 'C']\n",
    "\n",
    "# Obtener desde el segundo hasta el último\n",
    "print(nucleotidos[1:])  # Imprime ['C', 'G', 'T']\n",
    "\n",
    "# Obtener los elementos desde el índice 1 hasta el 2 (sin incluir el 3)\n",
    "print(nucleotidos[1:3])  # Imprime ['C', 'G']"
   ]
  },
  {
   "cell_type": "markdown",
   "metadata": {},
   "source": [
    "## Diccionarios (`dict`)\n",
    "\n",
    "Son estructuras con pares clave-valor."
   ]
  },
  {
   "cell_type": "code",
   "execution_count": null,
   "metadata": {},
   "outputs": [],
   "source": [
    "num_nucleotidos = {\n",
    "    \"A\": 0, \n",
    "    \"C\": 0, \n",
    "    \"G\": 0, \n",
    "    \"T\": 0\n",
    "    }\n",
    "\n",
    "# Accedemos a través de la clave ([\"A\"]) y modificamos su valor (sumamos 1 al valor original)\n",
    "num_nucleotidos[\"A\"] += 1\n",
    "print(num_nucleotidos)"
   ]
  },
  {
   "cell_type": "markdown",
   "metadata": {},
   "source": [
    "# 6. Bucles\n",
    "\n",
    "Nos sirven para poder «recorrer» nuestras estructuras de datos, por ejemplo, nuestra lista `nucleotidos`:"
   ]
  },
  {
   "cell_type": "code",
   "execution_count": null,
   "metadata": {},
   "outputs": [],
   "source": [
    "nucleotidos = [\"A\", \"C\", \"G\", \"T\"] # una lista\n",
    "\n",
    "for nucleotido in nucleotidos:\n",
    "    print(\"Elemento: \" + nucleotido)"
   ]
  },
  {
   "cell_type": "markdown",
   "metadata": {},
   "source": [
    "En estos casos, las variables tipo `string` también funcionan como listas."
   ]
  },
  {
   "cell_type": "code",
   "execution_count": null,
   "metadata": {},
   "outputs": [],
   "source": [
    "adn = \"AGCCTTT\" # un string\n",
    "\n",
    "for nucleotido in adn:\n",
    "    print(\"Elemento: \" + nucleotido)"
   ]
  }
 ],
 "metadata": {
  "kernelspec": {
   "display_name": "Python 3",
   "language": "python",
   "name": "python3"
  },
  "language_info": {
   "codemirror_mode": {
    "name": "ipython",
    "version": 3
   },
   "file_extension": ".py",
   "mimetype": "text/x-python",
   "name": "python",
   "nbconvert_exporter": "python",
   "pygments_lexer": "ipython3",
   "version": "3.10.0"
  }
 },
 "nbformat": 4,
 "nbformat_minor": 2
}
