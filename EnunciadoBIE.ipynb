{
 "cells": [
  {
   "cell_type": "markdown",
   "source": [
    " # 1. Contar nucleótidos"
   ],
   "metadata": {}
  },
  {
   "cell_type": "code",
   "execution_count": 1,
   "source": [
    "adn = \"AGCTTTTCATTCTGACTGCAACGGGCAATATGTCTCTGTGTGGATTAAAAAAAGAGTGTCTGATAGCAGC\""
   ],
   "outputs": [],
   "metadata": {}
  },
  {
   "cell_type": "code",
   "execution_count": 2,
   "source": [
    "def contar_nucleotidos(adn):\n",
    "    n_A = 0\n",
    "    n_C = 0\n",
    "    n_G = 0\n",
    "    n_T = 0\n",
    "    \n",
    "    for nucleotido in adn:\n",
    "        if nucleotido == \"A\":\n",
    "            n_A += 1\n",
    "        elif nucleotido == \"C\":\n",
    "            n_C += 1\n",
    "        elif nucleotido == \"G\":\n",
    "            n_G += 1\n",
    "        elif nucleotido == \"T\":\n",
    "            n_T += 1\n",
    "    return n_A, n_C, n_G, n_T"
   ],
   "outputs": [],
   "metadata": {}
  },
  {
   "cell_type": "code",
   "execution_count": 3,
   "source": [
    "contar_nucleotidos(adn)"
   ],
   "outputs": [
    {
     "output_type": "execute_result",
     "data": {
      "text/plain": [
       "(20, 12, 17, 21)"
      ]
     },
     "metadata": {},
     "execution_count": 3
    }
   ],
   "metadata": {}
  },
  {
   "cell_type": "markdown",
   "source": [
    " # 2. Transcripción"
   ],
   "metadata": {}
  },
  {
   "cell_type": "code",
   "execution_count": 4,
   "source": [
    "adn = \"GATGGAACTTGACTACGTAAATT\""
   ],
   "outputs": [],
   "metadata": {}
  },
  {
   "cell_type": "code",
   "execution_count": 5,
   "source": [
    "def transcripcion(adn):\n",
    "    arn = \"\"\n",
    "    \n",
    "    for nucleotido in adn:\n",
    "        if nucleotido == \"A\":\n",
    "            arn=arn+\"A\"\n",
    "        elif nucleotido == \"C\":\n",
    "            arn=arn+\"C\"\n",
    "        elif nucleotido == \"G\":\n",
    "            arn=arn+\"G\"\n",
    "        elif nucleotido == \"T\":\n",
    "            arn=arn+\"U\"\n",
    "    return arn"
   ],
   "outputs": [],
   "metadata": {}
  },
  {
   "cell_type": "code",
   "execution_count": 6,
   "source": [
    "print(transcripcion(adn))"
   ],
   "outputs": [
    {
     "output_type": "stream",
     "name": "stdout",
     "text": [
      "GAUGGAACUUGACUACGUAAAUU\n"
     ]
    }
   ],
   "metadata": {}
  },
  {
   "cell_type": "markdown",
   "source": [
    " # 2a. Cadena complementaria"
   ],
   "metadata": {}
  },
  {
   "cell_type": "code",
   "execution_count": 7,
   "source": [
    "adn = \"AAAACCCGGT\""
   ],
   "outputs": [],
   "metadata": {}
  },
  {
   "cell_type": "code",
   "execution_count": 8,
   "source": [
    "def complementaria(adn):\n",
    "    cci = \"\"\n",
    "    \n",
    "    for nucleotido in adn:\n",
    "        if nucleotido == \"A\":\n",
    "            cci=cci+\"T\"\n",
    "        elif nucleotido == \"C\":\n",
    "            cci=cci+\"G\"\n",
    "        elif nucleotido == \"G\":\n",
    "            cci=cci+\"C\"\n",
    "        elif nucleotido == \"T\":\n",
    "            cci=cci+\"A\"\n",
    "    return cci"
   ],
   "outputs": [],
   "metadata": {}
  },
  {
   "cell_type": "code",
   "execution_count": 9,
   "source": [
    "print(complementaria(adn))"
   ],
   "outputs": [
    {
     "output_type": "stream",
     "name": "stdout",
     "text": [
      "TTTTGGGCCA\n"
     ]
    }
   ],
   "metadata": {}
  },
  {
   "cell_type": "markdown",
   "source": [
    " # 2b. Cadena complementaria inversa"
   ],
   "metadata": {}
  },
  {
   "cell_type": "code",
   "execution_count": 10,
   "source": [
    "adn = \"AAAACCCGGT\""
   ],
   "outputs": [],
   "metadata": {}
  },
  {
   "cell_type": "code",
   "execution_count": 11,
   "source": [
    "def complementaria_inversa(adn):\n",
    "    cci = \"\"\n",
    "    \n",
    "    for nucleotido in adn:\n",
    "        if nucleotido == \"A\":\n",
    "            cci=\"T\"+cci\n",
    "        elif nucleotido == \"C\":\n",
    "            cci=\"G\"+cci\n",
    "        elif nucleotido == \"G\":\n",
    "            cci=\"C\"+cci\n",
    "        elif nucleotido == \"T\":\n",
    "            cci=\"A\"+cci\n",
    "    return cci"
   ],
   "outputs": [],
   "metadata": {}
  },
  {
   "cell_type": "code",
   "execution_count": 12,
   "source": [
    "print(complementaria_inversa(adn))"
   ],
   "outputs": [
    {
     "output_type": "stream",
     "name": "stdout",
     "text": [
      "ACCGGGTTTT\n"
     ]
    }
   ],
   "metadata": {}
  },
  {
   "cell_type": "markdown",
   "source": [
    " # 3. Traducción a proteína"
   ],
   "metadata": {}
  },
  {
   "cell_type": "code",
   "execution_count": 13,
   "source": [
    "arn = \"AUGCCCAGAACUGAGAUCAAUAGUACCCGUAUUAACGGGUGA\"\n",
    "aminoacidos = { \"UUU\":\"F\", \"UUC\":\"F\", \"UUA\":\"L\", \"UUG\":\"L\",\n",
    "                \"UCU\":\"S\", \"UCC\":\"s\", \"UCA\":\"S\", \"UCG\":\"S\",\n",
    "                \"UAU\":\"Y\", \"UAC\":\"Y\", \"UAA\":\"STOP\", \"UAG\":\"STOP\",\n",
    "                \"UGU\":\"C\", \"UGC\":\"C\", \"UGA\":\"STOP\", \"UGG\":\"W\",\n",
    "                \"CUU\":\"L\", \"CUC\":\"L\", \"CUA\":\"L\", \"CUG\":\"L\",\n",
    "                \"CCU\":\"P\", \"CCC\":\"P\", \"CCA\":\"P\", \"CCG\":\"P\",\n",
    "                \"CAU\":\"H\", \"CAC\":\"H\", \"CAA\":\"Q\", \"CAG\":\"Q\",\n",
    "                \"CGU\":\"R\", \"CGC\":\"R\", \"CGA\":\"R\", \"CGG\":\"R\",\n",
    "                \"AUU\":\"I\", \"AUC\":\"I\", \"AUA\":\"I\", \"AUG\":\"M\",\n",
    "                \"ACU\":\"T\", \"ACC\":\"T\", \"ACA\":\"T\", \"ACG\":\"T\",\n",
    "                \"AAU\":\"N\", \"AAC\":\"N\", \"AAA\":\"K\", \"AAG\":\"K\",\n",
    "                \"AGU\":\"S\", \"AGC\":\"S\", \"AGA\":\"R\", \"AGG\":\"R\",\n",
    "                \"GUU\":\"V\", \"GUC\":\"V\", \"GUA\":\"V\", \"GUG\":\"V\",\n",
    "                \"GCU\":\"A\", \"GCC\":\"A\", \"GCA\":\"A\", \"GCG\":\"A\",\n",
    "                \"GAU\":\"D\", \"GAC\":\"D\", \"GAA\":\"E\", \"GAG\":\"E\",\n",
    "                \"GGU\":\"G\", \"GGC\":\"G\", \"GGA\":\"G\", \"GGG\":\"G\",}"
   ],
   "outputs": [],
   "metadata": {}
  },
  {
   "cell_type": "code",
   "execution_count": 14,
   "source": [
    "arn"
   ],
   "outputs": [
    {
     "output_type": "execute_result",
     "data": {
      "text/plain": [
       "'AUGCCCAGAACUGAGAUCAAUAGUACCCGUAUUAACGGGUGA'"
      ]
     },
     "metadata": {},
     "execution_count": 14
    }
   ],
   "metadata": {}
  },
  {
   "cell_type": "code",
   "execution_count": 15,
   "source": [
    "def traduccion(arn):\n",
    "    proteina = \"\"\n",
    "    \n",
    "    for i in range(0, len(arn), 3): \n",
    "            codon = arn[i:i + 3] \n",
    "            aminoacido = aminoacidos[codon] \n",
    "            if aminoacido == \"STOP\":\n",
    "                break\n",
    "            else:\n",
    "                proteina += aminoacidos[codon] \n",
    "    return proteina"
   ],
   "outputs": [],
   "metadata": {}
  },
  {
   "cell_type": "code",
   "execution_count": 16,
   "source": [
    "print(traduccion(arn))"
   ],
   "outputs": [
    {
     "output_type": "stream",
     "name": "stdout",
     "text": [
      "MPRTEINSTRING\n"
     ]
    }
   ],
   "metadata": {}
  },
  {
   "cell_type": "markdown",
   "source": [
    " # 4. Visualización de la proteína"
   ],
   "metadata": {}
  },
  {
   "cell_type": "code",
   "execution_count": 17,
   "source": [
    "from Bio.PDB import *\n",
    "import nglview as nv\n",
    "import ipywidgets\n",
    "\n",
    "pdb_parser = PDBParser()\n",
    "structure = pdb_parser.get_structure(\"SARS-CoV-2 Spike\", \"sarscovspike.pdb\")\n",
    "view = nv.show_biopython(structure)"
   ],
   "outputs": [
    {
     "output_type": "display_data",
     "data": {
      "application/vnd.jupyter.widget-view+json": {
       "version_major": 2,
       "version_minor": 0,
       "model_id": "0ad49a41ccb14905aaba3cfc4fb1d13a"
      },
      "text/plain": []
     },
     "metadata": {}
    },
    {
     "output_type": "stream",
     "name": "stderr",
     "text": [
      "/home/jabarbero/anaconda3/envs/bie/lib/python3.9/site-packages/Bio/PDB/StructureBuilder.py:89: PDBConstructionWarning: WARNING: Chain A is discontinuous at line 25394.\n",
      "  warnings.warn(\n",
      "/home/jabarbero/anaconda3/envs/bie/lib/python3.9/site-packages/Bio/PDB/StructureBuilder.py:89: PDBConstructionWarning: WARNING: Chain B is discontinuous at line 25548.\n",
      "  warnings.warn(\n",
      "/home/jabarbero/anaconda3/envs/bie/lib/python3.9/site-packages/Bio/PDB/StructureBuilder.py:89: PDBConstructionWarning: WARNING: Chain C is discontinuous at line 25702.\n",
      "  warnings.warn(\n"
     ]
    }
   ],
   "metadata": {}
  },
  {
   "cell_type": "code",
   "execution_count": 18,
   "source": [
    "view"
   ],
   "outputs": [
    {
     "output_type": "display_data",
     "data": {
      "application/vnd.jupyter.widget-view+json": {
       "version_major": 2,
       "version_minor": 0,
       "model_id": "dba97f9d22c7454bbc22969bcf2d76f7"
      },
      "text/plain": [
       "NGLWidget()"
      ]
     },
     "metadata": {}
    }
   ],
   "metadata": {}
  }
 ],
 "metadata": {
  "kernelspec": {
   "name": "python3",
   "display_name": "Python 3.9.7 64-bit ('bie': conda)"
  },
  "language_info": {
   "codemirror_mode": {
    "name": "ipython",
    "version": 3
   },
   "file_extension": ".py",
   "mimetype": "text/x-python",
   "name": "python",
   "nbconvert_exporter": "python",
   "pygments_lexer": "ipython3",
   "version": "3.9.7"
  },
  "interpreter": {
   "hash": "a8c5c0e2818afed910f806b6873b4490bf733c38293e3dd7836fba0a7f277041"
  }
 },
 "nbformat": 4,
 "nbformat_minor": 4
}